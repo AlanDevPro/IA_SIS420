{
  "cells": [
    {
      "cell_type": "markdown",
      "metadata": {
        "id": "bLhc4kJrGWB1"
      },
      "source": [
        "**Laboratorio N°4 - SIS420**\n",
        "\n",
        "**Introducción.**\n",
        "\n",
        "En este cuadernillo, para este laboratorio, nos enfocaremos en el entrenamiento y evaluación de modelos de regresión logística (one vs all). Utilizaremos cada uno de los datasets anteriores para la realización de predicciones, contando ahora con el hiperparámetro de regularización, el cual nos ayudará a hacer las respectivas comparaciones durante el entrenamiento, pues se pondrá al modelo a prueba usando este hiperparámetro y sin usar este hiperparámetro.\n",
        "\n",
        "**Objetivos.**\n",
        "\n",
        "- Seleccionar y preparar los respectivos datasets anteriores que contienen las variables necesarias para el entrenamiento de modelos de regresión logística.\n",
        "- Implementar modelos de regresión logística.\n",
        "- Entrenar y validar cada modelo comparando las predicciones realizadas con el modelo con los datos de las hipótesis ya establecidas\n",
        "- Evaluar la efectividad de cada modelo mediante la realización de predicciones y la medición de métricas de desempeño.\n",
        "- Utilizar la biblioteca Pandas para manipular y procesar los datos del dataset.\n",
        "Generar gráficos de costo para analizar el proceso de entrenamiento de los modelos."
      ]
    },
    {
      "cell_type": "code",
      "execution_count": 1,
      "metadata": {
        "colab": {
          "base_uri": "https://localhost:8080/"
        },
        "id": "37I5bB-gHwLT",
        "outputId": "5b901204-1960-4fcd-8d7a-dc9edbe84d0a"
      },
      "outputs": [
        {
          "output_type": "stream",
          "name": "stdout",
          "text": [
            "Laboratorio N°4 - SIS420: Limachi Villarroel Alan Nicolas.\n",
            "Carrera: Ingeniería en Ciencias de la Computación.\n"
          ]
        }
      ],
      "source": [
        "print(f\"Laboratorio N°4 - SIS420: Limachi Villarroel Alan Nicolas.\")\n",
        "print(f\"Carrera: Ingeniería en Ciencias de la Computación.\")"
      ]
    },
    {
      "cell_type": "markdown",
      "metadata": {
        "id": "dUwSa2_xH3Dj"
      },
      "source": [
        "**(0) Montar Google Drive en Colaboratoy.** Una vez que el Google Drive está montado, puedes acceder a los archivos almacenados en tu Google Drive directamente desde el entorno de Colaboratory."
      ]
    },
    {
      "cell_type": "code",
      "execution_count": null,
      "metadata": {
        "colab": {
          "base_uri": "https://localhost:8080/"
        },
        "id": "Xh0c6wOSIFkd",
        "outputId": "cb9125db-9c38-4f42-dceb-160ccd1f5a6f"
      },
      "outputs": [
        {
          "output_type": "stream",
          "name": "stdout",
          "text": [
            "Mounted at /content/gdrive\n"
          ]
        }
      ],
      "source": [
        "from google.colab import drive\n",
        "drive.mount(\"/content/gdrive\")"
      ]
    },
    {
      "cell_type": "markdown",
      "metadata": {
        "id": "MEylz1pQIYqk"
      },
      "source": [
        "**(1) Preparación librerías y funciones para los modelos.** En este caso se prepararán las respectivas librerías para trabajar de forma más directa y sencilla con cada modelo, además de crear las funciones que se utilizarán para cada uno de estos modelos, creando así un código más legible, limpio, de forma que se entienda mejor cada algoritmo determinado.\n"
      ]
    },
    {
      "cell_type": "markdown",
      "metadata": {
        "id": "YWRL2IYjJboR"
      },
      "source": [
        "**(a) Determinación de las Librerías.**\n",
        "Se explicará de forma simple el uso de estas librerías en este cuadernillo para un mejor entendimiento:\n",
        "- import os: Interactuar con el sistema operativo.\n",
        "- import pandas as pd: Manipular y analizar datos tabulares.\n",
        "- import numpy as np: Computación numérica eficiente.\n",
        "- from matplotlib import pyplot as plt: Visualizar datos y gráficos.\n",
        "- from mpl_toolkits.mplot3d import Axes3D: Visualizar datos tridimensionales.\n",
        "- from sklearn.linear_model import LinearRegression: Implementar regresión lineal.\n",
        "- from sklearn.preprocessing import PolynomialFeatures: Crear características polinómicas.\n",
        "- from sklearn.metrics import mean_squared_error: Evaluar el error cuadrático medio.\n",
        "- from scipy import optimize: Optimizar funciones matemáticas.\n",
        "from sklearn.model_selection import train_test_split: Dividir datos en entrenamiento y prueba.\n",
        "- from sklearn.preprocessing import StandardScaler: Estandarizar características numéricas.\n",
        "- import shutil: Manipular archivos y directorios.\n"
      ]
    },
    {
      "cell_type": "code",
      "execution_count": null,
      "metadata": {
        "id": "PJyQXSaOKYkz"
      },
      "outputs": [],
      "source": [
        "import os\n",
        "import pandas as pd\n",
        "import numpy as np\n",
        "from matplotlib import pyplot as plt\n",
        "from mpl_toolkits.mplot3d import Axes3D\n",
        "from sklearn.linear_model import LinearRegression\n",
        "from sklearn.preprocessing import PolynomialFeatures\n",
        "from sklearn.metrics import mean_squared_error\n",
        "from scipy import optimize\n",
        "from sklearn.model_selection import train_test_split\n",
        "from sklearn.preprocessing import StandardScaler\n",
        "import shutil\n",
        "%matplotlib inline"
      ]
    },
    {
      "cell_type": "markdown",
      "metadata": {
        "id": "ygy3VvRhNVMU"
      },
      "source": [
        "**(b) Determinación de las funciones.**"
      ]
    },
    {
      "cell_type": "code",
      "execution_count": null,
      "metadata": {
        "id": "J_IS6Bd_S-dh"
      },
      "outputs": [],
      "source": [
        "class Model:\n",
        "    def __init__(self, dataset):\n",
        "      self.dataset = self.prepocesarDataset(dataset)\n",
        "      self.train_set, self.test_set = train_test_split(self.dataset, test_size=0.2, random_state=99)\n",
        "      self.X_train, self.y_train = self.train_set.iloc[:, :-1], self.train_set.iloc[:, -1]\n",
        "      self.X_test, self.y_test = self.test_set.iloc[:, :-1], self.test_set.iloc[:, -1]\n",
        "      self.X_train = np.concatenate([np.ones((self.X_train.shape[0], 1)), self.X_train], axis=1)\n",
        "      self.X_test = np.concatenate([np.ones((self.X_test.shape[0], 1)), self.X_test], axis=1)\n",
        "      self.J = 0\n",
        "    def normalizarCaracteristicas(self, X):\n",
        "      media = np.mean(X, axis=0)\n",
        "      desviacion_estandar = np.std(X, axis=0)\n",
        "      desviacion_estandar[desviacion_estandar == 0] = 1\n",
        "      X_norm = (X - media) / desviacion_estandar\n",
        "      return X_norm\n",
        "    def graficarCosto(self, J):\n",
        "      plt.plot(np.arange(len(J)), J, lw=2)\n",
        "      plt.xlabel('Numero de iteraciones')\n",
        "      plt.ylabel('Costo J')\n",
        "    def calcularPorcentajeAcierto(self):\n",
        "      predicciones = self.realizarPredicciones(self.X_test, self.theta)\n",
        "      predicciones_redondeadas = np.round(predicciones)\n",
        "      precision = np.mean(predicciones_redondeadas == self.y_test) * 100\n",
        "      print(\"Precisión de las predicciones en el conjunto de prueba: {:.10f}%\".format(precision))\n",
        "    def prepocesarDataset(self, dataset):\n",
        "      dataset = pd.read_csv(dataset, sep=';', header=0, decimal=',')\n",
        "      datos = {}\n",
        "      columnas = dataset.columns[dataset.dtypes == 'object'].tolist()\n",
        "      for columna in columnas:\n",
        "        datos[columna] = dataset[columna].drop_duplicates().values\n",
        "      datos_num = {}\n",
        "      for columna, valores in datos.items():\n",
        "        indice_reemp = 0\n",
        "        datos_num_col = {}\n",
        "        for valor in valores:\n",
        "          if valor not in datos_num_col and not pd.isnull(valor):\n",
        "            datos_num_col[valor] = indice_reemp\n",
        "            indice_reemp += 1\n",
        "        if np.nan not in datos_num_col:\n",
        "          datos_num_col[np.nan] = 0\n",
        "        datos_num[columna] = datos_num_col\n",
        "      for columna, d_n in datos_num.items():\n",
        "        dataset[columna] = dataset[columna].replace(d_n)\n",
        "      dataset = dataset.fillna(0)\n",
        "      return dataset"
      ]
    },
    {
      "cell_type": "markdown",
      "metadata": {
        "id": "_7MWJTomS-7-"
      },
      "source": [
        "**(2) Creación de los modelos.**"
      ]
    },
    {
      "cell_type": "markdown",
      "metadata": {
        "id": "9-CKdxArT6qU"
      },
      "source": [
        "**(a) Regresión Logística.**"
      ]
    },
    {
      "cell_type": "code",
      "execution_count": null,
      "metadata": {
        "id": "MUAK8_8QT_qE"
      },
      "outputs": [],
      "source": [
        "class ModelLogistica(Model):\n",
        "  def entrenar(self, regularizacion):\n",
        "      self.lambda_ = 0.01 if regularizacion else 0\n",
        "      self.X_test = self.normalizarCaracteristicas(self.X_test)\n",
        "      self.X_train = self.normalizarCaracteristicas(self.X_train)\n",
        "      self.theta = np.zeros(self.X_train.shape[1])\n",
        "      self.theta, self.J = self.descensoGradiente(self.X_train, self.y_train, self.theta, self.lambda_, 1000)\n",
        "      self.graficarCosto(self.J)\n",
        "  def funcionSigmoide(self, z):\n",
        "    return 1 / (1 + np.exp(-z))\n",
        "  def funcionCosto(self, X, y, theta):\n",
        "    m = y.size\n",
        "    h = self.funcionSigmoide(X @ theta)\n",
        "    costo = (1 / m) * np.sum(-y * np.log(h) - (1 - y) * np.log(1 - h))\n",
        "    if self.lambda_ != 0:\n",
        "      regularizacion = (self.lambda_ / (2 * m)) * np.sum(theta[1:] ** 2)\n",
        "      costo += regularizacion\n",
        "    return costo\n",
        "  def descensoGradiente(self, X, y, theta, lambda_, num_iteraciones):\n",
        "    m = y.shape[0]\n",
        "    theta = theta.copy()\n",
        "    J_history = []\n",
        "    for _ in range(num_iteraciones):\n",
        "        h = self.funcionSigmoide(X @ theta)\n",
        "        gradiente = (1 / m) * (X.T @ (h - y))\n",
        "        if lambda_ != 0:\n",
        "            regularizacion = (lambda_ / m) * theta\n",
        "            regularizacion[0] = 0\n",
        "            gradiente += regularizacion\n",
        "        theta -= gradiente\n",
        "        J_history.append(self.funcionCosto(X, y, theta))\n",
        "    return theta, J_history\n",
        "  def realizarPredicciones(self, X, theta):\n",
        "    probabilidad = self.funcionSigmoide(X @ theta)\n",
        "    predicciones = (probabilidad >= 0.5).astype(int)\n",
        "    return predicciones\n",
        "  def calcularPorcentajeAcierto(self):\n",
        "    predicciones = self.realizarPredicciones(self.X_test, self.theta)\n",
        "    predicciones_redondeadas = np.round(predicciones)\n",
        "    precision = np.mean(predicciones_redondeadas == self.y_test) * 100\n",
        "    print(\"Precisión de las predicciones en el conjunto de prueba: {:.10f}%\".format(precision))"
      ]
    },
    {
      "cell_type": "markdown",
      "metadata": {
        "id": "QsU4SA94UACc"
      },
      "source": [
        "**(b) Regresión Logística (One vs All).**"
      ]
    },
    {
      "cell_type": "code",
      "execution_count": null,
      "metadata": {
        "id": "5AXcWzgVUF9f"
      },
      "outputs": [],
      "source": [
        "class ModelOnevsAll(Model):\n",
        "    def entrenar(self, regularizacion):\n",
        "        self.lambda_ = 0.01 if regularizacion else 0\n",
        "        self.X_test = self.normalizarCaracteristicas(self.X_test)\n",
        "        self.X_train = self.normalizarCaracteristicas(self.X_train)\n",
        "        self.theta = self.descensoGradiente(self.X_train, self.y_train, self.lambda_, 1000)\n",
        "    def funcionSigmoide(self, z):\n",
        "        return 1 / (1 + np.exp(-z))\n",
        "    def funcionCosto(self, theta, X, y, lambda_):\n",
        "      m = y.size\n",
        "      h = self.funcionSigmoide(X @ theta)\n",
        "      costo = (1 / m) * np.sum(-y * np.log(h) - (1 - y) * np.log(1 - h))\n",
        "      if lambda_ != 0:\n",
        "        regularizacion = (lambda_ / (2 * m)) * np.sum(theta[1:] ** 2)\n",
        "        costo += regularizacion\n",
        "      gradiente = (1 / m) * (X.T @ (h - y))\n",
        "      if lambda_ != 0:\n",
        "        regularizacion_gradiente = (lambda_ / m) * theta\n",
        "        regularizacion_gradiente[0] = 0\n",
        "        gradiente += regularizacion_gradiente\n",
        "      return costo, gradiente\n",
        "    def descensoGradiente(self, X, y, lambda_, num_iteraciones):\n",
        "      m, n = X.shape\n",
        "      num_labels = len(np.unique(y))\n",
        "      theta = np.zeros((num_labels, n))\n",
        "      for c in np.arange(num_labels):\n",
        "        initial_theta = np.zeros(n)\n",
        "        y_onevsall = (y == c).astype(int)\n",
        "        cost_function = lambda t, X, y, lambda_: self.funcionCosto(t, X, y, lambda_)[0]\n",
        "        grad_function = lambda t, X, y, lambda_: self.funcionCosto(t, X, y, lambda_)[1]\n",
        "        res = optimize.minimize(cost_function, initial_theta, args=(X, y_onevsall, lambda_), jac=grad_function, method='CG', options={'maxiter': num_iteraciones})\n",
        "        theta[c] = res.x\n",
        "      return theta\n",
        "    def realizarPredicciones(self, X, theta):\n",
        "        m = X.shape[0]\n",
        "        probabilidades = self.funcionSigmoide(X @ theta.T)\n",
        "        predicciones = np.argmax(probabilidades, axis=1)\n",
        "        return predicciones\n",
        "    def calcularPorcentajeAcierto(self):\n",
        "        predicciones = self.realizarPredicciones(self.X_test, self.theta)\n",
        "        predicciones_redondeadas = np.round(predicciones)\n",
        "        precision = np.mean(predicciones_redondeadas == self.y_test) * 100\n",
        "        print(\"Precisión de las predicciones en el conjunto de prueba: {:.10f}%\".format(precision))"
      ]
    },
    {
      "cell_type": "markdown",
      "metadata": {
        "id": "HJyRHBizUGl1"
      },
      "source": [
        "**(3) Entrenamiento y predicciones relizadas por los modelos.**"
      ]
    },
    {
      "cell_type": "markdown",
      "metadata": {
        "id": "GI8jHfZwVwVU"
      },
      "source": [
        "**(a) Modelo de Regresión Logística.**"
      ]
    },
    {
      "cell_type": "markdown",
      "metadata": {
        "id": "c6Qba1_3VwVV"
      },
      "source": [
        "*(i) Carga del Dataset.*"
      ]
    },
    {
      "cell_type": "code",
      "execution_count": null,
      "metadata": {
        "id": "ogWdEybSVwVV"
      },
      "outputs": [],
      "source": [
        "datasetLogistica = '/content/gdrive/MyDrive/SIS420/Laboratorio_4_SIS420/Datasets/trastorno_genético.csv'\n",
        "lSR = ModelLogistica(datasetLogistica)\n",
        "lCR = ModelLogistica(datasetLogistica)"
      ]
    },
    {
      "cell_type": "markdown",
      "metadata": {
        "id": "FOXWpoDwVwVV"
      },
      "source": [
        "*(ii) Entrenamiento y predicciones sin el hiperparámetro.*"
      ]
    },
    {
      "cell_type": "code",
      "execution_count": null,
      "metadata": {
        "colab": {
          "base_uri": "https://localhost:8080/",
          "height": 449
        },
        "id": "yLCZE-u7VwVW",
        "outputId": "d05e7cb7-834a-4f1f-f7fc-2ecc37d8f728"
      },
      "outputs": [
        {
          "output_type": "display_data",
          "data": {
            "text/plain": [
              "<Figure size 640x480 with 1 Axes>"
            ],
            "image/png": "[encoded data removed]"
          },
          "metadata": {}
        }
      ],
      "source": [
        "lSR.entrenar(False)"
      ]
    },
    {
      "cell_type": "code",
      "execution_count": null,
      "metadata": {
        "colab": {
          "base_uri": "https://localhost:8080/"
        },
        "id": "EKLCKuSFWbMG",
        "outputId": "2e77c800-844b-499f-fdc8-e22cc35894e7"
      },
      "outputs": [
        {
          "output_type": "stream",
          "name": "stdout",
          "text": [
            "Precisión de las predicciones en el conjunto de prueba: 49.1901728844%\n"
          ]
        }
      ],
      "source": [
        "lSR.calcularPorcentajeAcierto()"
      ]
    },
    {
      "cell_type": "markdown",
      "metadata": {
        "id": "lrwfscHpVwVW"
      },
      "source": [
        "*(iii) Entrenamiento y predicciones con el hiperparámetro.*"
      ]
    },
    {
      "cell_type": "code",
      "execution_count": null,
      "metadata": {
        "colab": {
          "base_uri": "https://localhost:8080/",
          "height": 449
        },
        "id": "OGZBTuVOVwVW",
        "outputId": "848e1b66-5f11-4a59-9313-2b37b9cdb674"
      },
      "outputs": [
        {
          "output_type": "display_data",
          "data": {
            "text/plain": [
              "<Figure size 640x480 with 1 Axes>"
            ],
            "image/png": "[encoded data removed]"
          },
          "metadata": {}
        }
      ],
      "source": [
        "lCR.entrenar(True)"
      ]
    },
    {
      "cell_type": "code",
      "execution_count": null,
      "metadata": {
        "colab": {
          "base_uri": "https://localhost:8080/"
        },
        "id": "lLTBcNF-Wcb0",
        "outputId": "8c07cfda-c8e2-4765-92f7-c91e5808996b"
      },
      "outputs": [
        {
          "output_type": "stream",
          "name": "stdout",
          "text": [
            "Precisión de las predicciones en el conjunto de prueba: 49.1901728844%\n"
          ]
        }
      ],
      "source": [
        "lCR.calcularPorcentajeAcierto()"
      ]
    },
    {
      "cell_type": "code",
      "source": [
        "print(lSR.lambda_)\n",
        "print(lSR.descensoGradiente(lSR.X_train, lSR.y_train, lSR.theta, lSR.lambda_, 100)[0])\n",
        "print(lCR.lambda_)\n",
        "print(lCR.descensoGradiente(lCR.X_train, lCR.y_train, lCR.theta, lCR.lambda_, 100)[0])"
      ],
      "metadata": {
        "colab": {
          "base_uri": "https://localhost:8080/"
        },
        "id": "y6HnVXRfZYEd",
        "outputId": "722fa5a9-4f0a-4455-ba0a-c679a45a2719"
      },
      "execution_count": null,
      "outputs": [
        {
          "output_type": "stream",
          "name": "stdout",
          "text": [
            "0\n",
            "[ 0.          0.00225061  0.00224665  0.00225061  0.00224665  0.00224665\n",
            "  0.         -0.02976009  0.01146083 -0.01434687  0.01402643 -0.02486977\n",
            " -0.00253581 -0.00588417 -0.01339917  0.01150257  0.01460511 -0.01110315\n",
            "  0.00698584  0.01110141 -0.01272589 -0.00012441 -0.00947206 -0.0040436 ]\n",
            "0.01\n",
            "[ 0.          0.00225061  0.00224665  0.00225061  0.00224665  0.00224665\n",
            "  0.         -0.02976003  0.01146081 -0.01434685  0.01402639 -0.02486972\n",
            " -0.00253582 -0.00588417 -0.01339913  0.01150253  0.01460506 -0.0111031\n",
            "  0.00698581  0.01110136 -0.01272584 -0.00012442 -0.00947203 -0.00404359]\n"
          ]
        }
      ]
    },
    {
      "cell_type": "markdown",
      "metadata": {
        "id": "EtUrTIyjVb_k"
      },
      "source": [
        "**(b) Modelo de Regresión Logística (One vs All).**"
      ]
    },
    {
      "cell_type": "markdown",
      "metadata": {
        "id": "SGv7qwd8Vb_l"
      },
      "source": [
        "*(i) Carga del Dataset.*"
      ]
    },
    {
      "cell_type": "code",
      "execution_count": null,
      "metadata": {
        "id": "u1TcyMiHVb_l"
      },
      "outputs": [],
      "source": [
        "datasetOnevsAll = '/content/gdrive/MyDrive/SIS420/Laboratorio_4_SIS420/Datasets/trastorno_genético.csv'\n",
        "oSR = ModelOnevsAll(datasetOnevsAll)\n",
        "oCR = ModelOnevsAll(datasetOnevsAll)"
      ]
    },
    {
      "cell_type": "markdown",
      "metadata": {
        "id": "43X2MP23Vb_m"
      },
      "source": [
        "*(ii) Entrenamiento y predicciones sin el hiperparámetro.*"
      ]
    },
    {
      "cell_type": "code",
      "execution_count": null,
      "metadata": {
        "id": "hqnCJa98Vb_m"
      },
      "outputs": [],
      "source": [
        "oSR.entrenar(False)"
      ]
    },
    {
      "cell_type": "code",
      "execution_count": null,
      "metadata": {
        "colab": {
          "base_uri": "https://localhost:8080/"
        },
        "id": "ee5rwLGTWea8",
        "outputId": "f9a2e35c-5f56-4356-cc41-bbe79e9c4ad0"
      },
      "outputs": [
        {
          "output_type": "stream",
          "name": "stdout",
          "text": [
            "Precisión de las predicciones en el conjunto de prueba: 61.9809825674%\n"
          ]
        }
      ],
      "source": [
        "oSR.calcularPorcentajeAcierto()"
      ]
    },
    {
      "cell_type": "markdown",
      "metadata": {
        "id": "pjNw4vpIVb_m"
      },
      "source": [
        "*(iii) Entrenamiento y predicciones con el hiperparámetro.*"
      ]
    },
    {
      "cell_type": "code",
      "execution_count": null,
      "metadata": {
        "id": "arGhIrJ6Vb_n"
      },
      "outputs": [],
      "source": [
        "oCR.entrenar(True)"
      ]
    },
    {
      "cell_type": "code",
      "execution_count": null,
      "metadata": {
        "colab": {
          "base_uri": "https://localhost:8080/"
        },
        "id": "w7dsF_EDWfl_",
        "outputId": "9495b9e8-4e2f-433d-935e-24b4ccb763e2"
      },
      "outputs": [
        {
          "output_type": "stream",
          "name": "stdout",
          "text": [
            "Precisión de las predicciones en el conjunto de prueba: 62.0443740095%\n"
          ]
        }
      ],
      "source": [
        "oCR.calcularPorcentajeAcierto()"
      ]
    },
    {
      "cell_type": "code",
      "source": [
        "print(oSR.lambda_)\n",
        "print(oSR.descensoGradiente(oSR.X_train, oSR.y_train, oSR.lambda_, 100)[0])\n",
        "print(oCR.lambda_)\n",
        "print(oCR.descensoGradiente(oCR.X_train, oCR.y_train, oCR.lambda_, 100)[0])"
      ],
      "metadata": {
        "colab": {
          "base_uri": "https://localhost:8080/"
        },
        "id": "tft0mVK2Zr5u",
        "outputId": "3ceee6b2-ef33-4ad7-e9b1-0caee764a7e9"
      },
      "execution_count": null,
      "outputs": [
        {
          "output_type": "stream",
          "name": "stdout",
          "text": [
            "0\n",
            "[ 0.          0.01640715 -0.07621439  0.06631062 -0.18681803  0.08436521\n",
            "  0.00718702 -0.01911546 -0.05216193 -0.16580614  0.07419576  0.06654683\n",
            " -0.6813899  -0.65751693 -0.65219899 -0.64241182 -0.65116373  0.67128517\n",
            "  0.15896705  0.1418954   0.10075378  0.22982588  0.17803186  0.14044671\n",
            "  0.10792295  0.1185572   0.16939076  0.16404331 -0.65366537  0.12596424\n",
            " -0.94404933  0.17206971 -0.14808227 -0.15651766 -0.16777338 -0.11659645\n",
            " -0.05594077 -0.59671031]\n",
            "0.01\n",
            "[ 0.          0.01640717 -0.07621362  0.06630984 -0.18681686  0.08436435\n",
            "  0.00718702 -0.01911424 -0.05216028 -0.16580225  0.07419572  0.06654717\n",
            " -0.68138369 -0.65751133 -0.65219389 -0.64240678 -0.65115845  0.67127867\n",
            "  0.1589671   0.14189523  0.10075389  0.22982164  0.17803143  0.14044683\n",
            "  0.1079231   0.11855721  0.16939038  0.16404305 -0.65365992  0.12596456\n",
            " -0.94402888  0.17207108 -0.14809001 -0.15651871 -0.16777426 -0.11659783\n",
            " -0.05594264 -0.59669846]\n"
          ]
        }
      ]
    },
    {
      "cell_type": "markdown",
      "metadata": {
        "id": "qtOCDLKWvVd3"
      },
      "source": [
        "**(4) Comparación con Modelos ya prehechos.**"
      ]
    },
    {
      "cell_type": "code",
      "execution_count": 2,
      "metadata": {
        "id": "oRB2OWF9vdgD"
      },
      "outputs": [],
      "source": [
        "from sklearn.linear_model import LinearRegression\n",
        "from sklearn.linear_model import LogisticRegression\n",
        "from sklearn.preprocessing import PolynomialFeatures\n",
        "from sklearn.pipeline import make_pipeline\n",
        "from sklearn.multiclass import OneVsRestClassifier\n",
        "from sklearn.svm import SVC\n",
        "\n",
        "def entrenar_modelo_logistica_sklearn(X_train, y_train, X_test, y_test, regularizacion=True):\n",
        "    if regularizacion:\n",
        "        modelo = LogisticRegression(penalty='l2', C=0.01)\n",
        "    else:\n",
        "        modelo = LogisticRegression(penalty='none')\n",
        "    modelo.fit(X_train, y_train)\n",
        "    precision = modelo.score(X_test, y_test) * 100\n",
        "    print(\"Precisión de las predicciones en el conjunto de prueba: {:.10f}%\".format(precision))\n",
        "\n",
        "def entrenar_modelo_one_vs_all_sklearn(X_train, y_train, X_test, y_test, regularizacion=True):\n",
        "    classifier =  SVC()\n",
        "    classifier.fit(X_train, y_train)\n",
        "    precision = classifier.score(X_test, y_test) * 100\n",
        "    print(\"Precisión de las predicciones en el conjunto de prueba: {:.10f}%\".format(precision))"
      ]
    },
    {
      "cell_type": "code",
      "source": [
        "entrenar_modelo_logistica_sklearn(lCR.X_train, lCR.y_train, lCR.X_test, lCR.y_test) #74.96%\n",
        "entrenar_modelo_one_vs_all_sklearn(oCR.X_train, oCR.y_train, oCR.X_test, oCR.y_test) #55.69%"
      ],
      "metadata": {
        "id": "JwJhw8AB0omI"
      },
      "execution_count": null,
      "outputs": []
    }
  ],
  "metadata": {
    "colab": {
      "provenance": []
    },
    "kernelspec": {
      "display_name": "Python 3",
      "name": "python3"
    },
    "language_info": {
      "name": "python"
    }
  },
  "nbformat": 4,
  "nbformat_minor": 0
}