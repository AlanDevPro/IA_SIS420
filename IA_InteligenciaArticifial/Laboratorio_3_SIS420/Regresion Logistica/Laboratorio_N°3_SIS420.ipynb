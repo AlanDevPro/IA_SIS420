{
  "cells": [
    {
      "cell_type": "markdown",
      "metadata": {
        "id": "VhufLedmLSeg"
      },
      "source": [
        "**Laboratorio N°3 - SIS420**\n",
        "\n",
        "**Introducción.**\n",
        "\n",
        "En este cuadernillo de Python, abordaremos el proceso de entrenamiento y evaluación de modelos de regresión logística utilizando un dataset específico. El objetivo principal es comprender y aplicar diferentes técnicas de regresión logística, incluyendo la regresión logística binaria y multinomial. Utilizaremos un conjunto de datos que cumpla con ciertos criterios establecidos, incluyendo variables independientes y una variable dependiente categórica.\n",
        "\n",
        "**Objetivos.**\n",
        "\n",
        "- Seleccionar un dataset adecuado que cumpla con los requisitos de tamaño y características necesarias.\n",
        "- Implementar modelos de regresión logística binaria en Python.\n",
        "- Entrenar y validar cada modelo utilizando técnicas adecuadas de división de datos y validación cruzada.\n",
        "- Evaluar la efectividad de cada modelo mediante la realización de predicciones.\n",
        "- Utilizar la biblioteca Pandas para procesar y manipular los datos del dataset.\n",
        "- Generar un gráfico de costo para ver qué ocurre al entrenar el moodelo.\n"
      ]
    },
    {
      "cell_type": "code",
      "execution_count": 36,
      "metadata": {
        "colab": {
          "base_uri": "https://localhost:8080/"
        },
        "id": "2Zc9OmMUIdbh",
        "outputId": "4b5dc479-375b-4360-8fad-6970cbca4cdf"
      },
      "outputs": [
        {
          "output_type": "stream",
          "name": "stdout",
          "text": [
            "Laboratorio N°2 - SIS420: Limachi Villarroel Alan NIcolas.\n",
            "Carrera: Ingeniería en Ciencias de la Computación.\n"
          ]
        }
      ],
      "source": [
        "print(f\"Laboratorio N°2 - SIS420: Limachi Villarroel Alan NIcolas.\")\n",
        "print(f\"Carrera: Ingeniería en Ciencias de la Computación.\")"
      ]
    },
    {
      "cell_type": "markdown",
      "metadata": {
        "id": "5KPUUlfLISF1"
      },
      "source": [
        "**(0) Montar Google Drive en Colaboratoy.** Una vez que el Google Drive está montado, puedes acceder a los archivos almacenados en tu Google Drive directamente desde el entorno de Colaboratory."
      ]
    },
    {
      "cell_type": "code",
      "execution_count": 37,
      "metadata": {
        "colab": {
          "base_uri": "https://localhost:8080/"
        },
        "id": "2yThJCHkIpOt",
        "outputId": "e082232e-1166-416c-fe9d-4ab48394fce6"
      },
      "outputs": [
        {
          "output_type": "stream",
          "name": "stdout",
          "text": [
            "Drive already mounted at /content/gdrive; to attempt to forcibly remount, call drive.mount(\"/content/gdrive\", force_remount=True).\n"
          ]
        }
      ],
      "source": [
        "from google.colab import drive\n",
        "drive.mount(\"/content/gdrive\")"
      ]
    },
    {
      "cell_type": "markdown",
      "metadata": {
        "id": "_oXnVS5JJakY"
      },
      "source": [
        "**(1) Establecimiento de las Librerías.** Iremos cargando y asignando nombres a las librerías que vayamos a usar durante todo este texto, de forma que nos sea fácil realizar el entrenamiento. Las librerías como numpy, pandas, matplotlib, scipy, y sklearn proporcionan las herramientas fundamentales para el manejo de datos, cálculos matemáticos, visualización gráfica, y métodos de aprendizaje automático. Importar estas librerías al principio del código asegura que todas las funciones necesarias estén disponibles para su uso en las etapas subsiguientes."
      ]
    },
    {
      "cell_type": "code",
      "execution_count": 38,
      "metadata": {
        "id": "g5ECRNPfJrwL"
      },
      "outputs": [],
      "source": [
        "import os\n",
        "import pandas as pd\n",
        "import numpy as np\n",
        "from matplotlib import pyplot as plt\n",
        "from scipy import optimize\n",
        "import shutil\n",
        "from sklearn.model_selection import train_test_split\n",
        "%matplotlib inline"
      ]
    },
    {
      "cell_type": "markdown",
      "metadata": {
        "id": "h2FJ4MTmUSxH"
      },
      "source": [
        "**(a) Creación de las funciones.** Se crean las funciones para que el código sea más legible e interpretable, además de que con este enfoque modular el código se presentará más limpio y se enfocará más en el algoritmo como tal, aquí se irán agregando las siguientes funciones:"
      ]
    },
    {
      "cell_type": "markdown",
      "metadata": {
        "id": "qxcFlnBjUyo1"
      },
      "source": [
        "*(i) Graficar Datos.* Esta función se utiliza para graficar los datos de entrada X junto con sus respectivas etiquetas y. Los puntos se representan en una gráfica, donde los puntos correspondientes a la clase positiva se marcan con un * y los de la clase negativa se marcan con un o."
      ]
    },
    {
      "cell_type": "code",
      "execution_count": 39,
      "metadata": {
        "id": "sYxVdk9VUSJH"
      },
      "outputs": [],
      "source": [
        "def graficarDatos(X, y):\n",
        "    fig = plt.figure()\n",
        "    pos = y == 1\n",
        "    neg = y == 0\n",
        "    plt.plot(X[pos, 0], X[pos, 1], 'k*', lw=2, ms=10)\n",
        "    plt.plot(X[neg, 0], X[neg, 1], 'ko', mfc='y', ms=8, mec='k', mew=1)\n",
        "    plt.xlabel('X')\n",
        "    plt.ylabel('Label')\n",
        "    plt.legend(['Cambio', 'No Cambio'])"
      ]
    },
    {
      "cell_type": "markdown",
      "metadata": {
        "id": "v-kvrm5UVbZ_"
      },
      "source": [
        "*(ii) Sigmoide.* Esta función calcula la función sigmoide para una entrada z. La función sigmoide es comúnmente utilizada en regresión logística para comprimir el rango de valores a un intervalo entre 0 y 1, lo que facilita la interpretación como una probabilidad."
      ]
    },
    {
      "cell_type": "code",
      "execution_count": 40,
      "metadata": {
        "id": "2Vht1VZvSXgS"
      },
      "outputs": [],
      "source": [
        "def sigmoide(z):\n",
        "  return 1 / (1 + np.exp(-z))"
      ]
    },
    {
      "cell_type": "markdown",
      "metadata": {
        "id": "T2Gj3vaAWJi_"
      },
      "source": [
        "*(iii) Calcular Costo.* Esta función calcula la función de costo de la regresión logística, dada la matriz de características X, las etiquetas y y los parámetros del modelo theta. La función de costo mide la discrepancia entre las predicciones del modelo y las etiquetas reales."
      ]
    },
    {
      "cell_type": "code",
      "execution_count": 41,
      "metadata": {
        "id": "mNaCGOyEWJCI"
      },
      "outputs": [],
      "source": [
        "def calcularCosto(theta, X, y):\n",
        "    m = y.size\n",
        "    J = 0\n",
        "    h = sigmoide(X.dot(theta.T))\n",
        "    J = (1 / m) * np.sum(-y.dot(np.log(h)) - (1 - y).dot(np.log(1 - h)))\n",
        "    return J"
      ]
    },
    {
      "cell_type": "markdown",
      "metadata": {
        "id": "M9UXOb15WnPj"
      },
      "source": [
        "*(iv) Descenso por el Gradiente.* Esta función implementa el algoritmo de descenso por el gradiente para encontrar los parámetros óptimos del modelo de regresión logística. Se actualiza iterativamente los parámetros theta en la dirección que minimiza la función de costo, utilizando un tamaño de paso alpha durante un número num_iters de iteraciones."
      ]
    },
    {
      "cell_type": "code",
      "execution_count": 42,
      "metadata": {
        "id": "BYWJNCwlWyjd"
      },
      "outputs": [],
      "source": [
        "def descensoGradiente(theta, X, y, alpha, num_iters):\n",
        "    m = y.shape[0]\n",
        "    theta = theta.copy()\n",
        "    J_history = []\n",
        "    for i in range(num_iters):\n",
        "        h = sigmoide(X.dot(theta.T))\n",
        "        theta = theta - (alpha / m) * (h - y).dot(X)\n",
        "        J_history.append(calcularCosto(theta, X, y))\n",
        "    return theta, J_history"
      ]
    },
    {
      "cell_type": "markdown",
      "metadata": {
        "id": "d-HIgKRyW4YM"
      },
      "source": [
        "*(v) Función de Costo.* Esta función calcula la función de costo y el gradiente de la función de costo para la regresión logística, dada la matriz de características X, las etiquetas y y los parámetros del modelo theta. Además de calcular el costo, también calcula el gradiente de la función de costo con respecto a los parámetros theta."
      ]
    },
    {
      "cell_type": "code",
      "execution_count": 43,
      "metadata": {
        "id": "GjfjWBWUXA0D"
      },
      "outputs": [],
      "source": [
        "def funcionCosto(theta, X, y):\n",
        "    m = y.size\n",
        "    J = 0\n",
        "    grad = np.zeros(theta.shape)\n",
        "    h = sigmoide(X.dot(theta.T))\n",
        "    J = (1 / m) * np.sum(-y.dot(np.log(h)) - (1 - y).dot(np.log(1 - h)))\n",
        "    grad = (1 / m) * (h - y).dot(X)\n",
        "    return J, grad"
      ]
    },
    {
      "cell_type": "markdown",
      "metadata": {
        "id": "F5196mPbXxh3"
      },
      "source": [
        "*(vi) Graficar el Límite de Decisión.* Esta función grafica los datos X junto con sus etiquetas y, y superpone el límite de decisión del modelo de regresión logística definido por los parámetros theta. Si el número de características es menor o igual a 3, traza una línea de decisión. Si hay más de 3 características, utiliza contornos para mostrar el límite de decisión."
      ]
    },
    {
      "cell_type": "code",
      "execution_count": 44,
      "metadata": {
        "id": "1UTRr3JiX3IJ"
      },
      "outputs": [],
      "source": [
        "def graficarLimiteDecision(graficarDatos, theta, X, y):\n",
        "    X = normalizarCaracteristicas(X)\n",
        "    graficarDatos(X[:, 1:9], y)\n",
        "    if X.shape[1] <= 3:\n",
        "        plot_x = np.array([np.min(X[:, 1]) - 2, np.max(X[:, 1]) + 2])\n",
        "        plot_y = (-1. / theta[2]) * (theta[1] * plot_x + theta[0])\n",
        "        plt.plot(plot_x, plot_y)\n",
        "        plt.legend(['Cambio', 'No Cambio', 'Límite de decisión'])\n",
        "        plt.xlim([np.min(X[:, 1]) - 2, np.max(X[:, 1]) + 2])\n",
        "        plt.ylim([np.min(X[:, 2]) - 2, np.max(X[:, 2]) + 2])\n",
        "    else:\n",
        "        u = np.linspace(-2, 2, 50)\n",
        "        v = np.linspace(-2, 2, 50)\n",
        "        z = np.zeros((len(u), len(v)))\n",
        "        for i, ui in enumerate(u):\n",
        "            for j, vj in enumerate(v):\n",
        "                features = np.ones((1, X.shape[1]))\n",
        "                features[0, 1] = ui\n",
        "                features[0, 2] = vj\n",
        "                z[i, j] = np.dot(features.flatten(), theta.flatten())\n",
        "        z = z.T\n",
        "        levels = np.unique(np.sort([np.min(z), 0, np.max(z)]))\n",
        "        if len(levels) > 1:\n",
        "            plt.contour(u, v, z, levels=levels, linewidths=2, colors='g')\n",
        "            plt.contourf(u, v, z, levels=levels, cmap='Greens', alpha=0.4)\n",
        "        else:\n",
        "            levels = np.linspace(np.min(z), np.max(z), 3)\n",
        "            plt.contour(u, v, z, levels=levels, linewidths=2, colors='g')\n",
        "            plt.contourf(u, v, z, levels=levels, cmap='Greens', alpha=0.4)\n",
        "    plt.show()"
      ]
    },
    {
      "cell_type": "markdown",
      "metadata": {
        "id": "ABsBIwgGmPLT"
      },
      "source": [
        "*(vii) Normalizar Características.* La normalización asegura que todas las características tengan la misma escala, lo que es importante porque muchas técnicas de aprendizaje automático son sensibles a la escala de los datos. Al tener todas las características en una escala similar, se facilita y acelera el proceso de convergencia durante el entrenamiento del modelo. Esto es especialmente cierto para métodos basados en gradiente, donde la normalización puede prevenir problemas de estabilidad numérica y mejorar la eficiencia computacional."
      ]
    },
    {
      "cell_type": "code",
      "execution_count": 45,
      "metadata": {
        "id": "mcLD2fnVmNys"
      },
      "outputs": [],
      "source": [
        "def normalizarCaracteristicas(X):\n",
        "    media = np.mean(X, axis=0)\n",
        "    desviacion_estandar = np.std(X, axis=0)\n",
        "    desviacion_estandar[desviacion_estandar == 0] = 1\n",
        "    X_norm = (X - media) / desviacion_estandar\n",
        "    return X_norm"
      ]
    },
    {
      "cell_type": "markdown",
      "metadata": {
        "id": "zB55Jxt2YnyI"
      },
      "source": [
        "*(viii) Predecir.* Esta función se utiliza para predecir las etiquetas de clase (0 o 1) para los datos de entrada X, utilizando los parámetros del modelo theta. Calcula las predicciones utilizando la función sigmoide y luego redondea los valores obtenidos para asignar las etiquetas finales."
      ]
    },
    {
      "cell_type": "code",
      "execution_count": 46,
      "metadata": {
        "id": "cHK5ryIZYxJZ"
      },
      "outputs": [],
      "source": [
        "def predecir(theta, X):\n",
        "    probabilidad = np.dot(X, theta)\n",
        "    predicciones = (probabilidad).astype(int)\n",
        "    return predicciones"
      ]
    },
    {
      "cell_type": "markdown",
      "metadata": {
        "id": "Zgtp7JUwZ7Ys"
      },
      "source": [
        "**(2) Regresión Logística.**\n",
        "La regresión logística es un algoritmo de aprendizaje supervisado utilizado para la clasificación binaria. A pesar de su nombre, la regresión logística se utiliza comúnmente para problemas de clasificación en lugar de problemas de regresión."
      ]
    },
    {
      "cell_type": "markdown",
      "metadata": {
        "id": "7dQt_zgxbnAO"
      },
      "source": [
        "**(a) Cargar el Dataset y Manipular los Datos.** Cargaremos el dataset para poderlo procesar con pandas. *Una* vez cargados los datos, pandas proporciona herramientas poderosas para manipular y transformar los datos. Esto incluye la capacidad de seleccionar, filtrar, agrupar, fusionar y limpiar los datos de manera eficiente, lo que facilita la preparación de los datos para su análisis o modelado."
      ]
    },
    {
      "cell_type": "code",
      "execution_count": 47,
      "metadata": {
        "id": "rYqhCmb4cx7g",
        "colab": {
          "base_uri": "https://localhost:8080/"
        },
        "outputId": "c9466525-98f6-4c20-89b1-b9dc7e4fd40e"
      },
      "outputs": [
        {
          "output_type": "stream",
          "name": "stdout",
          "text": [
            "[[1.         1.17924535 1.17924535 1.17924535 1.17924535 1.17924535]\n",
            " [1.         1.18553638 1.18553638 1.18553638 1.18553638 1.18553638]\n",
            " [1.         1.18147445 1.18147445 1.18147445 1.18147445 1.18147445]\n",
            " ...\n",
            " [1.         1.17647052 1.17647052 1.17647052 1.17647052 1.17647052]\n",
            " [1.         1.18035889 1.18035889 1.18035889 1.18035889 1.18035889]\n",
            " [1.         1.18147445 1.18147445 1.18147445 1.18147445 1.18147445]]\n",
            "21533    0\n",
            "2754     0\n",
            "15761    0\n",
            "16302    1\n",
            "18077    0\n",
            "        ..\n",
            "22584    0\n",
            "501      0\n",
            "23166    1\n",
            "20828    0\n",
            "24958    0\n",
            "Name: label, Length: 21980, dtype: int64\n",
            "[[1.         1.18091631 1.18091631 1.18091631 1.18091631 1.18091631]\n",
            " [1.         1.17688596 1.17688596 1.17688596 1.17688596 1.17688596]\n",
            " [1.         1.18638039 1.18638039 1.18638039 1.18638039 1.18638039]\n",
            " ...\n",
            " [1.         1.18609893 1.18609893 1.18609893 1.18609893 1.18609893]\n",
            " [1.         1.18343186 1.18343186 1.18343186 1.18343186 1.18343186]\n",
            " [1.         1.18666196 1.18666196 1.18666196 1.18666196 1.18666196]]\n",
            "14838    0\n",
            "23015    1\n",
            "10365    1\n",
            "3035     0\n",
            "8303     0\n",
            "        ..\n",
            "7166     1\n",
            "21293    0\n",
            "9239     0\n",
            "14309    0\n",
            "11290    0\n",
            "Name: label, Length: 5495, dtype: int64\n"
          ]
        }
      ],
      "source": [
        "dataset = pd.read_csv('/content/gdrive/MyDrive/SIS420/Laboratorio_3_SIS420/Dataset/tgbot.csv', delimiter=\",\")\n",
        "dataset.drop('Datetime', axis=1, inplace=True)\n",
        "train_set, test_set = train_test_split(dataset, test_size=0.2, random_state=9)\n",
        "X_train, y_train = train_set.iloc[:, :5], train_set.iloc[:, -1]\n",
        "X_test, y_test = test_set.iloc[:, :5], test_set.iloc[:, -1]\n",
        "X_train = np.concatenate([np.ones((X_train.shape[0], 1)), X_train], axis=1)\n",
        "X_test = np.concatenate([np.ones((X_test.shape[0], 1)), X_test], axis=1)\n",
        "print(X_train)\n",
        "print(y_train)\n",
        "print(X_test)\n",
        "print(y_test)"
      ]
    },
    {
      "cell_type": "markdown",
      "metadata": {
        "id": "TxY6K2udjSfn"
      },
      "source": [
        "**(b) Función de Costo y Gradiente.** La función de costo, o función de pérdida, mide qué tan bien el modelo está realizando sus predicciones comparado con los valores reales. En el contexto de la regresión logística, se utiliza para evaluar la diferencia entre las salidas predichas y los valores verdaderos. El objetivo durante el entrenamiento es minimizar esta función de costo, lo que indica que el modelo está haciendo predicciones más precisas. El gradiente es un vector que contiene todas las derivadas parciales de la función de costo con respecto a cada parámetro del modelo. En el aprendizaje automático, se utiliza para realizar el descenso de gradiente, un método de optimización que ajusta los parámetros del modelo para minimizar la función de costo. El gradiente indica la dirección en la que se debe ajustar cada parámetro para lograr la mayor disminución posible en la función de costo."
      ]
    },
    {
      "cell_type": "code",
      "execution_count": 48,
      "metadata": {
        "id": "txWaWbwzjR--",
        "colab": {
          "base_uri": "https://localhost:8080/",
          "height": 484
        },
        "outputId": "2ebc9324-5206-49de-d35c-86fa4e7a6c86"
      },
      "outputs": [
        {
          "output_type": "stream",
          "name": "stdout",
          "text": [
            "Theta calculado por el descenso por el gradiente: [-0.13527088 -0.15977253 -0.15977253 -0.15977253 -0.15977253 -0.15977253]\n",
            "Último valor de la función de costo: 0.5661248066128887\n"
          ]
        },
        {
          "output_type": "display_data",
          "data": {
            "text/plain": [
              "<Figure size 640x480 with 1 Axes>"
            ],
            "image/png": "[encoded data removed]"
          },
          "metadata": {}
        }
      ],
      "source": [
        "alpha = 0.001\n",
        "num_iters = 5000\n",
        "#theta = np.zeros(X_train.shape[1])\n",
        "theta = np.zeros(6)\n",
        "theta, J_history = descensoGradiente(theta, X_train, y_train, alpha, num_iters)\n",
        "plt.plot(np.arange(len(J_history)), J_history, lw=2)\n",
        "plt.xlabel('Numero de iteraciones')\n",
        "plt.ylabel('Costo J')\n",
        "print('Theta calculado por el descenso por el gradiente:', theta)\n",
        "print('Último valor de la función de costo:', J_history[-1])"
      ]
    },
    {
      "cell_type": "markdown",
      "metadata": {
        "id": "1sktnUX-Wh0I"
      },
      "source": [
        "**(c) Graficar Límites de Decisión** Los niveles de decisión se grafican para visualizar cómo el modelo de regresión logística ha aprendido a separar las clases. En un gráfico bidimensional, esta línea o curva representa el umbral donde el modelo cambia su predicción de una clase a otra. Es una herramienta poderosa para entender intuitivamente el comportamiento del modelo y cómo diferentes características influyen en la predicción."
      ]
    },
    {
      "cell_type": "code",
      "execution_count": 49,
      "metadata": {
        "id": "BXWOl7lEcYgi",
        "colab": {
          "base_uri": "https://localhost:8080/",
          "height": 449
        },
        "outputId": "e7601696-a3ef-4468-d65e-6bb54b5d8ae8"
      },
      "outputs": [
        {
          "output_type": "display_data",
          "data": {
            "text/plain": [
              "<Figure size 640x480 with 1 Axes>"
            ],
            "image/png": "[encoded data removed]"
          },
          "metadata": {}
        }
      ],
      "source": [
        "graficarLimiteDecision(graficarDatos, theta, X_train, y_train)"
      ]
    },
    {
      "cell_type": "markdown",
      "metadata": {
        "id": "VWM5AtfHXQZJ"
      },
      "source": [
        "**(d) Optimizar los valores de theta con optimize.minimize.** Es una función de la biblioteca scipy que se utiliza para minimizar una función objetivo, en este caso, la función de costo. Puede utilizar varios métodos de optimización y es útil cuando se tienen funciones de costo complejas o cuando se desea utilizar algoritmos de optimización más avanzados que el descenso de gradiente simple."
      ]
    },
    {
      "cell_type": "code",
      "execution_count": 53,
      "metadata": {
        "id": "MEFVmRT6M3fI"
      },
      "outputs": [],
      "source": [
        "options = {'maxiter': 1000}\n",
        "res = optimize.minimize(funcionCosto, theta, args=(X_train, y_train), jac=True, method='L-BFGS-B', options=options)\n",
        "cost = res.fun\n",
        "theta = res.x"
      ]
    },
    {
      "cell_type": "markdown",
      "metadata": {
        "id": "gJByJ1MjXdLS"
      },
      "source": [
        "**(e) Realizar Predicciones.** Realizar predicciones es el propósito final de cualquier modelo de aprendizaje automático. Una vez que el modelo ha sido entrenado y optimizado, se utilizan las características de nuevos datos para predecir la salida. En la regresión logística, esto significa clasificar los datos en categorías basadas en la probabilidad calculada por el modelo. Las predicciones permiten aplicar el modelo a situaciones del mundo real y obtener información valiosa a partir de los datos."
      ]
    },
    {
      "cell_type": "code",
      "execution_count": 54,
      "metadata": {
        "id": "tcuXcao-NaBs",
        "colab": {
          "base_uri": "https://localhost:8080/"
        },
        "outputId": "1c3f4ac6-1423-493b-f77b-11dd8a7e95d1"
      },
      "outputs": [
        {
          "output_type": "stream",
          "name": "stdout",
          "text": [
            "Precisión de las nuevas predicciones en el conjunto de prueba: 1.38%\n"
          ]
        }
      ],
      "source": [
        "predictions = predecir(theta, X_test)\n",
        "accuracy = np.mean(predictions == y_test.values) * 100\n",
        "print(\"Precisión de las nuevas predicciones en el conjunto de prueba: {:.2f}%\".format(accuracy))"
      ]
    }
  ],
  "metadata": {
    "colab": {
      "provenance": []
    },
    "kernelspec": {
      "display_name": "Python 3",
      "language": "python",
      "name": "python3"
    },
    "language_info": {
      "name": "python",
      "version": "3.12.2"
    }
  },
  "nbformat": 4,
  "nbformat_minor": 0
}